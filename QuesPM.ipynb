{
  "nbformat": 4,
  "nbformat_minor": 0,
  "metadata": {
    "colab": {
      "provenance": [],
      "authorship_tag": "ABX9TyOtnxiSLoWp3ka3gJkHBSsN",
      "include_colab_link": true
    },
    "kernelspec": {
      "name": "python3",
      "display_name": "Python 3"
    },
    "language_info": {
      "name": "python"
    }
  },
  "cells": [
    {
      "cell_type": "markdown",
      "metadata": {
        "id": "view-in-github",
        "colab_type": "text"
      },
      "source": [
        "<a href=\"https://colab.research.google.com/github/TETRAWasTaken/QuesPM/blob/main/QuesPM.ipynb\" target=\"_parent\"><img src=\"https://colab.research.google.com/assets/colab-badge.svg\" alt=\"Open In Colab\"/></a>"
      ]
    },
    {
      "cell_type": "code",
      "source": [
        "print(\"Enter the name fo the file : \")\n",
        "filename = input()+\".pdf\"\n",
        "print(\"Enter the Title : \")\n",
        "title = input()\n",
        "print(\"Enter the Subheading : \")\n",
        "subtitle = input()\n",
        "\n",
        "n=1\n",
        "b='Q'\n",
        "c=')'\n",
        "a='yes'\n",
        "ques = []\n",
        "print(\"Enter the questions for the guestion paper\")\n",
        "for i in range(1,10000):\n",
        "  question = input()\n",
        "  n = str(n)\n",
        "  question = b+n+c+' '+question+' '+'?'\n",
        "  ques.append(question)\n",
        "  n = int(n)\n",
        "  n=n+1\n",
        "  print(\"One more question ?\")\n",
        "  a = input().rstrip().lower()\n",
        "  if(a=='no'):\n",
        "    break\n"
      ],
      "metadata": {
        "id": "WQz4vhg7tLiD"
      },
      "execution_count": null,
      "outputs": []
    },
    {
      "cell_type": "code",
      "source": [
        "from reportlab.pdfgen.canvas import Canvas\n",
        "from reportlab.lib.units import inch\n",
        "from reportlab.lib.pagesizes import A4\n",
        "from reportlab.pdfbase.ttfonts import TTFont\n",
        "from reportlab.pdfbase import pdfmetrics\n",
        "from reportlab.lib import colors\n",
        "\n",
        "textlines = ques\n",
        "\n",
        "pdf = Canvas(filename)\n",
        "\n",
        "pdf.setTitle(documenttitle)\n",
        "\n",
        "pdfmetrics.registerFont(\n",
        "    TTFont(\"Mainfont\" , \"/content/AmaticSC-Regular.ttf\")\n",
        ")\n",
        "\n",
        "pdf.setFont('Mainfont' , 50)\n",
        "pdf.drawCentredString(297.5, 770, title)\n",
        "\n",
        "pdf.setFillColor(colors.black)\n",
        "pdf.setFont(\"Courier-Bold\", 24)\n",
        "pdf.drawCentredString(297.5,740, subtitle)\n",
        "\n",
        "pdf.line(30,710,565,710)\n",
        "\n",
        "def cursormoves1(canvas):\n",
        "   from reportlab.lib.units import inch\n",
        "   textobject = canvas.beginText()\n",
        "   textobject.setTextOrigin(40,690)\n",
        "   textobject.setFont(\"Helvetica\", 14)\n",
        "   for line in textlines:\n",
        "     textobject.textLine(line)\n",
        "   canvas.drawText(textobject)\n",
        "cursormoves1(pdf)\n",
        "\n",
        "\n",
        "pdf.save()\n"
      ],
      "metadata": {
        "id": "_kkfe8zfVDr0"
      },
      "execution_count": null,
      "outputs": []
    }
  ]
}